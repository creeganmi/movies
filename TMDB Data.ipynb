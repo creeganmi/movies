{
 "cells": [
  {
   "cell_type": "markdown",
   "id": "d7529438-ed78-40d4-8c3f-5eb2a0332e73",
   "metadata": {},
   "source": [
    "## Installing dependencies"
   ]
  },
  {
   "cell_type": "code",
   "execution_count": 1,
   "id": "aa838c76-6f18-45f5-a50b-249b2e09e12a",
   "metadata": {
    "tags": []
   },
   "outputs": [
    {
     "name": "stdout",
     "output_type": "stream",
     "text": [
      "Collecting package metadata (current_repodata.json): done\n",
      "Solving environment: | ^C\n",
      "failed with initial frozen solve. Retrying with flexible solve.\n",
      "\n",
      "CondaError: KeyboardInterrupt\n",
      "\n",
      "\n",
      "Note: you may need to restart the kernel to use updated packages.\n"
     ]
    }
   ],
   "source": [
    "conda install -c conda-forge matplotlib tqdm"
   ]
  },
  {
   "cell_type": "markdown",
   "id": "35a904d1-d7de-4f64-aa5c-b0d1330e2a68",
   "metadata": {},
   "source": [
    "## Imports"
   ]
  },
  {
   "cell_type": "code",
   "execution_count": 2,
   "id": "9a4ad4b3-47e6-4bd9-b7ab-d4990d64a58c",
   "metadata": {},
   "outputs": [],
   "source": [
    "import requests # to make TMDB API calls\n",
    "import locale\n",
    "locale.setlocale( locale.LC_ALL, '' )\n",
    "\n",
    "import pandas as pd\n",
    "import matplotlib\n",
    "import matplotlib.pyplot as plt\n",
    "from matplotlib.ticker import FuncFormatter\n",
    "from tqdm import tqdm\n",
    "\n",
    "api_key = \"102470fa345354ddc5b12075428d47b5\""
   ]
  },
  {
   "cell_type": "markdown",
   "id": "d15d571e-fe36-4eee-a019-f566a9ffb1e4",
   "metadata": {},
   "source": [
    "## Get top 100 movies per each year/last 25 years"
   ]
  },
  {
   "cell_type": "code",
   "execution_count": 19,
   "id": "8b90b0cb-a5e3-4172-b4d7-64faec51fbcd",
   "metadata": {},
   "outputs": [
    {
     "data": {
      "text/html": [
       "<div>\n",
       "<style scoped>\n",
       "    .dataframe tbody tr th:only-of-type {\n",
       "        vertical-align: middle;\n",
       "    }\n",
       "\n",
       "    .dataframe tbody tr th {\n",
       "        vertical-align: top;\n",
       "    }\n",
       "\n",
       "    .dataframe thead th {\n",
       "        text-align: right;\n",
       "    }\n",
       "</style>\n",
       "<table border=\"1\" class=\"dataframe\">\n",
       "  <thead>\n",
       "    <tr style=\"text-align: right;\">\n",
       "      <th></th>\n",
       "      <th>id</th>\n",
       "      <th>title</th>\n",
       "      <th>release_date</th>\n",
       "    </tr>\n",
       "  </thead>\n",
       "  <tbody>\n",
       "    <tr>\n",
       "      <th>0</th>\n",
       "      <td>602</td>\n",
       "      <td>Independence Day</td>\n",
       "      <td>1996-06-25</td>\n",
       "    </tr>\n",
       "    <tr>\n",
       "      <th>1</th>\n",
       "      <td>664</td>\n",
       "      <td>Twister</td>\n",
       "      <td>1996-05-10</td>\n",
       "    </tr>\n",
       "    <tr>\n",
       "      <th>2</th>\n",
       "      <td>954</td>\n",
       "      <td>Mission: Impossible</td>\n",
       "      <td>1996-05-22</td>\n",
       "    </tr>\n",
       "    <tr>\n",
       "      <th>3</th>\n",
       "      <td>9802</td>\n",
       "      <td>The Rock</td>\n",
       "      <td>1996-06-07</td>\n",
       "    </tr>\n",
       "    <tr>\n",
       "      <th>4</th>\n",
       "      <td>10545</td>\n",
       "      <td>The Hunchback of Notre Dame</td>\n",
       "      <td>1996-06-21</td>\n",
       "    </tr>\n",
       "    <tr>\n",
       "      <th>...</th>\n",
       "      <td>...</td>\n",
       "      <td>...</td>\n",
       "      <td>...</td>\n",
       "    </tr>\n",
       "    <tr>\n",
       "      <th>15</th>\n",
       "      <td>589761</td>\n",
       "      <td>Chernobyl: Abyss</td>\n",
       "      <td>2021-04-15</td>\n",
       "    </tr>\n",
       "    <tr>\n",
       "      <th>16</th>\n",
       "      <td>630240</td>\n",
       "      <td>Titane</td>\n",
       "      <td>2021-07-14</td>\n",
       "    </tr>\n",
       "    <tr>\n",
       "      <th>17</th>\n",
       "      <td>606236</td>\n",
       "      <td>Family Swap</td>\n",
       "      <td>2021-06-30</td>\n",
       "    </tr>\n",
       "    <tr>\n",
       "      <th>18</th>\n",
       "      <td>860878</td>\n",
       "      <td>Qismat 2</td>\n",
       "      <td>2021-09-23</td>\n",
       "    </tr>\n",
       "    <tr>\n",
       "      <th>19</th>\n",
       "      <td>529106</td>\n",
       "      <td>Major Grom: Plague Doctor</td>\n",
       "      <td>2021-04-01</td>\n",
       "    </tr>\n",
       "  </tbody>\n",
       "</table>\n",
       "<p>2600 rows × 3 columns</p>\n",
       "</div>"
      ],
      "text/plain": [
       "        id                        title release_date\n",
       "0      602             Independence Day   1996-06-25\n",
       "1      664                      Twister   1996-05-10\n",
       "2      954          Mission: Impossible   1996-05-22\n",
       "3     9802                     The Rock   1996-06-07\n",
       "4    10545  The Hunchback of Notre Dame   1996-06-21\n",
       "..     ...                          ...          ...\n",
       "15  589761             Chernobyl: Abyss   2021-04-15\n",
       "16  630240                       Titane   2021-07-14\n",
       "17  606236                  Family Swap   2021-06-30\n",
       "18  860878                     Qismat 2   2021-09-23\n",
       "19  529106    Major Grom: Plague Doctor   2021-04-01\n",
       "\n",
       "[2600 rows x 3 columns]"
      ]
     },
     "metadata": {},
     "output_type": "display_data"
    }
   ],
   "source": [
    "current_year = 1996\n",
    "end_year = 2021\n",
    "\n",
    "columns = ['id', 'title', 'release_date']\n",
    "highest_revenue_df= pd.DataFrame(columns=columns)\n",
    "while current_year <= end_year:\n",
    "    page_number = 1\n",
    "    total_pages = 1\n",
    "    while page_number <= total_pages and page_number <= 5:\n",
    "        response = requests.get('https://api.themoviedb.org/3/discover/movie?api_key=' + api_key + '&primary_release_year=' + str(current_year) + '&sort_by=revenue.desc&page=' + str(page_number))\n",
    "        response_json = response.json();\n",
    "        total_pages = response_json['total_pages']\n",
    "        response_mapped = list(map(lambda result: {'id': result['id'], 'title': result['title'], 'release_date': result['release_date']}, response_json['results']))\n",
    "        df_current = pd.DataFrame(data = response_mapped, columns=columns)\n",
    "        highest_revenue_df = highest_revenue_df.append(df_current)\n",
    "        page_number += 1\n",
    "    current_year+=1\n",
    "display(highest_revenue_df)\n"
   ]
  },
  {
   "cell_type": "markdown",
   "id": "130f69de-5dc3-4e88-8706-a54bd6bba106",
   "metadata": {},
   "source": [
    "## Getting movie details (highest grossing movies)"
   ]
  },
  {
   "cell_type": "code",
   "execution_count": 20,
   "id": "22fb0510-01a8-4f1d-b6ba-f721cf763595",
   "metadata": {},
   "outputs": [
    {
     "name": "stderr",
     "output_type": "stream",
     "text": [
      "Downloading: 100%|████████████████████████████| 2600/2600 [06:52<00:00,  6.30it/s]\n"
     ]
    }
   ],
   "source": [
    "columns = ['film', 'revenue', 'release_date']\n",
    "df = pd.DataFrame(columns=columns)\n",
    "for index, film in tqdm(highest_revenue_df.iterrows(), total=len(highest_revenue_df), desc='Downloading'):\n",
    "    film_revenue = requests.get('https://api.themoviedb.org/3/movie/'+ str(film['id']) +'?api_key='+ api_key+'&language=en-US')\n",
    "    film_revenue = film_revenue.json()\n",
    "    df.loc[len(df)]=[film['title'],film_revenue['revenue'],film['release_date']]"
   ]
  },
  {
   "cell_type": "code",
   "execution_count": 21,
   "id": "3c70745e-4c43-4f3e-abbb-5369f8a02caa",
   "metadata": {},
   "outputs": [
    {
     "data": {
      "text/html": [
       "<div>\n",
       "<style scoped>\n",
       "    .dataframe tbody tr th:only-of-type {\n",
       "        vertical-align: middle;\n",
       "    }\n",
       "\n",
       "    .dataframe tbody tr th {\n",
       "        vertical-align: top;\n",
       "    }\n",
       "\n",
       "    .dataframe thead th {\n",
       "        text-align: right;\n",
       "    }\n",
       "</style>\n",
       "<table border=\"1\" class=\"dataframe\">\n",
       "  <thead>\n",
       "    <tr style=\"text-align: right;\">\n",
       "      <th></th>\n",
       "      <th>film</th>\n",
       "      <th>revenue</th>\n",
       "      <th>release_date</th>\n",
       "    </tr>\n",
       "  </thead>\n",
       "  <tbody>\n",
       "    <tr>\n",
       "      <th>0</th>\n",
       "      <td>Independence Day</td>\n",
       "      <td>817400891</td>\n",
       "      <td>1996-06-25</td>\n",
       "    </tr>\n",
       "    <tr>\n",
       "      <th>1</th>\n",
       "      <td>Twister</td>\n",
       "      <td>494471524</td>\n",
       "      <td>1996-05-10</td>\n",
       "    </tr>\n",
       "    <tr>\n",
       "      <th>2</th>\n",
       "      <td>Mission: Impossible</td>\n",
       "      <td>457731198</td>\n",
       "      <td>1996-05-22</td>\n",
       "    </tr>\n",
       "    <tr>\n",
       "      <th>3</th>\n",
       "      <td>The Rock</td>\n",
       "      <td>335062621</td>\n",
       "      <td>1996-06-07</td>\n",
       "    </tr>\n",
       "    <tr>\n",
       "      <th>4</th>\n",
       "      <td>The Hunchback of Notre Dame</td>\n",
       "      <td>325338851</td>\n",
       "      <td>1996-06-21</td>\n",
       "    </tr>\n",
       "    <tr>\n",
       "      <th>...</th>\n",
       "      <td>...</td>\n",
       "      <td>...</td>\n",
       "      <td>...</td>\n",
       "    </tr>\n",
       "    <tr>\n",
       "      <th>2595</th>\n",
       "      <td>Chernobyl: Abyss</td>\n",
       "      <td>5370393</td>\n",
       "      <td>2021-04-15</td>\n",
       "    </tr>\n",
       "    <tr>\n",
       "      <th>2596</th>\n",
       "      <td>Titane</td>\n",
       "      <td>5115725</td>\n",
       "      <td>2021-07-14</td>\n",
       "    </tr>\n",
       "    <tr>\n",
       "      <th>2597</th>\n",
       "      <td>Family Swap</td>\n",
       "      <td>4849622</td>\n",
       "      <td>2021-06-30</td>\n",
       "    </tr>\n",
       "    <tr>\n",
       "      <th>2598</th>\n",
       "      <td>Qismat 2</td>\n",
       "      <td>4700000</td>\n",
       "      <td>2021-09-23</td>\n",
       "    </tr>\n",
       "    <tr>\n",
       "      <th>2599</th>\n",
       "      <td>Major Grom: Plague Doctor</td>\n",
       "      <td>4493306</td>\n",
       "      <td>2021-04-01</td>\n",
       "    </tr>\n",
       "  </tbody>\n",
       "</table>\n",
       "<p>2600 rows × 3 columns</p>\n",
       "</div>"
      ],
      "text/plain": [
       "                             film    revenue release_date\n",
       "0                Independence Day  817400891   1996-06-25\n",
       "1                         Twister  494471524   1996-05-10\n",
       "2             Mission: Impossible  457731198   1996-05-22\n",
       "3                        The Rock  335062621   1996-06-07\n",
       "4     The Hunchback of Notre Dame  325338851   1996-06-21\n",
       "...                           ...        ...          ...\n",
       "2595             Chernobyl: Abyss    5370393   2021-04-15\n",
       "2596                       Titane    5115725   2021-07-14\n",
       "2597                  Family Swap    4849622   2021-06-30\n",
       "2598                     Qismat 2    4700000   2021-09-23\n",
       "2599    Major Grom: Plague Doctor    4493306   2021-04-01\n",
       "\n",
       "[2600 rows x 3 columns]"
      ]
     },
     "execution_count": 21,
     "metadata": {},
     "output_type": "execute_result"
    }
   ],
   "source": [
    "df"
   ]
  },
  {
   "cell_type": "markdown",
   "id": "75bed421-6422-4d31-9104-c1117385a364",
   "metadata": {},
   "source": [
    "## Export as CSV"
   ]
  },
  {
   "cell_type": "code",
   "execution_count": 22,
   "id": "888a437e-407c-430c-98e5-a9adc2a655df",
   "metadata": {},
   "outputs": [],
   "source": [
    "df.to_csv('tmdb_api_export_1996_2021_v2.csv')"
   ]
  },
  {
   "cell_type": "code",
   "execution_count": null,
   "id": "b497d972-a05b-4980-bb21-746d5c30355a",
   "metadata": {},
   "outputs": [],
   "source": []
  }
 ],
 "metadata": {
  "kernelspec": {
   "display_name": "my_env",
   "language": "python",
   "name": "my_env"
  },
  "language_info": {
   "codemirror_mode": {
    "name": "ipython",
    "version": 3
   },
   "file_extension": ".py",
   "mimetype": "text/x-python",
   "name": "python",
   "nbconvert_exporter": "python",
   "pygments_lexer": "ipython3",
   "version": "3.9.7"
  }
 },
 "nbformat": 4,
 "nbformat_minor": 5
}
