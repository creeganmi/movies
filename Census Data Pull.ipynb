{
 "cells": [
  {
   "cell_type": "code",
   "execution_count": 1,
   "id": "7196e2b5",
   "metadata": {},
   "outputs": [],
   "source": [
    "import pandas as pd\n",
    "import urllib.request, urllib.parse, urllib.error\n",
    "import json"
   ]
  },
  {
   "cell_type": "code",
   "execution_count": 2,
   "id": "7fe85ba6",
   "metadata": {},
   "outputs": [],
   "source": [
    "# US census API key\n",
    "# Only needed if requests > 500/day  \n",
    "\n",
    "apikey = False\n",
    "if apikey is False:\n",
    "    apikey = 'a9a31556222a7d52e490b89ae53e1a909c180a98'\n",
    "else: \n",
    "    apikey = False"
   ]
  },
  {
   "cell_type": "code",
   "execution_count": 3,
   "id": "5c3c97d7",
   "metadata": {},
   "outputs": [],
   "source": [
    "# Base URL for API call \n",
    "api_url = 'http://api.census.gov/data/timeseries/eits/qfr?get=cell_value,time_slot_id&'"
   ]
  },
  {
   "cell_type": "code",
   "execution_count": 32,
   "id": "eec9e2c3",
   "metadata": {},
   "outputs": [],
   "source": [
    "# Parameter placeholders\n",
    "# all are optional except for 'for' and 'time'\n",
    "# see here for more info: https://api.census.gov/data/timeseries/eits/advm3/variables.html\n",
    "error_data = 'no'\n",
    "seasonally_adj = 'no'\n",
    "category_code = ''\n",
    "data_type_code = ''\n",
    "for_param = 'US' # Required, 'US' will pull data for all states\n",
    "time = 'from 2000' # Required 'from 2000' will pull all data from 2000 onwards"
   ]
  },
  {
   "cell_type": "code",
   "execution_count": 33,
   "id": "1f1890df",
   "metadata": {},
   "outputs": [],
   "source": [
    "# Create a dictionary list of parameters to add to query string\n",
    "params = dict()\n",
    "params['error_data'] = error_data\n",
    "params['seasonally_adj'] = seasonally_adj\n",
    "params['category_code'] = category_code\n",
    "params['data_type_code'] = data_type_code\n",
    "params['for'] = for_param\n",
    "params['time'] = time\n",
    "if apikey is not False: params['key'] = apikey"
   ]
  },
  {
   "cell_type": "code",
   "execution_count": 34,
   "id": "9dbbc80c",
   "metadata": {},
   "outputs": [
    {
     "name": "stdout",
     "output_type": "stream",
     "text": [
      "Retrieving http://api.census.gov/data/timeseries/eits/qfr?get=cell_value,time_slot_id&error_data=no&seasonally_adj=no&category_code=&data_type_code=&for=US&time=from+2000&key=a9a31556222a7d52e490b89ae53e1a909c180a98\n"
     ]
    }
   ],
   "source": [
    "# Create API URL & print resulting URL\n",
    "url = api_url + urllib.parse.urlencode(params)\n",
    "print('Retrieving',url)"
   ]
  },
  {
   "cell_type": "code",
   "execution_count": 35,
   "id": "fa9a361f",
   "metadata": {},
   "outputs": [
    {
     "name": "stdout",
     "output_type": "stream",
     "text": [
      "Retrieved 9763866 characters\n"
     ]
    }
   ],
   "source": [
    "# Pull data\n",
    "api_data = urllib.request.urlopen(url)\n",
    "#read API data\n",
    "data = api_data.read().decode()\n",
    "print('Retrieved',len(data),'characters')"
   ]
  },
  {
   "cell_type": "code",
   "execution_count": 36,
   "id": "c620273b",
   "metadata": {},
   "outputs": [],
   "source": [
    "# Transfer data to JSON format\n",
    "try:\n",
    "    js = json.loads(data)\n",
    "except:\n",
    "    js = None\n",
    "    \n",
    "#If no JSON is found print results\n",
    "if not js: \n",
    "    print('Failed to retrieve following data')\n",
    "    print(data)\n",
    "\n",
    "# convert json string representation of dictionary to python dict\n",
    "def only_dict(data): \n",
    "    return ast.literal_eval(data)\n",
    "    "
   ]
  },
  {
   "cell_type": "code",
   "execution_count": 37,
   "id": "f92ad59e",
   "metadata": {},
   "outputs": [
    {
     "data": {
      "text/plain": [
       "9763866"
      ]
     },
     "execution_count": 37,
     "metadata": {},
     "output_type": "execute_result"
    }
   ],
   "source": [
    "len(data)"
   ]
  },
  {
   "cell_type": "code",
   "execution_count": 38,
   "id": "ec6bedf1",
   "metadata": {},
   "outputs": [],
   "source": [
    "# Read json into pandas dataframe \n",
    "df = pd.read_json(data)\n",
    "df = df.rename(columns={0:'cell_value',1:'time_slot_id',2:'error_data',3:'seasonally_adj',4:'category_code',5:'data_type_code',6:'time',7:'us'})\n",
    "df.drop(df.head(1).index, inplace=True)\n"
   ]
  },
  {
   "cell_type": "code",
   "execution_count": 39,
   "id": "a3fc6031",
   "metadata": {},
   "outputs": [
    {
     "data": {
      "text/html": [
       "<div>\n",
       "<style scoped>\n",
       "    .dataframe tbody tr th:only-of-type {\n",
       "        vertical-align: middle;\n",
       "    }\n",
       "\n",
       "    .dataframe tbody tr th {\n",
       "        vertical-align: top;\n",
       "    }\n",
       "\n",
       "    .dataframe thead th {\n",
       "        text-align: right;\n",
       "    }\n",
       "</style>\n",
       "<table border=\"1\" class=\"dataframe\">\n",
       "  <thead>\n",
       "    <tr style=\"text-align: right;\">\n",
       "      <th></th>\n",
       "      <th>cell_value</th>\n",
       "      <th>time_slot_id</th>\n",
       "      <th>error_data</th>\n",
       "      <th>seasonally_adj</th>\n",
       "      <th>category_code</th>\n",
       "      <th>data_type_code</th>\n",
       "      <th>time</th>\n",
       "      <th>us</th>\n",
       "    </tr>\n",
       "  </thead>\n",
       "  <tbody>\n",
       "    <tr>\n",
       "      <th>1</th>\n",
       "      <td>12070</td>\n",
       "      <td>1284</td>\n",
       "      <td>no</td>\n",
       "      <td>no</td>\n",
       "      <td>311</td>\n",
       "      <td>NWC</td>\n",
       "      <td>2000-Q4</td>\n",
       "      <td>1</td>\n",
       "    </tr>\n",
       "    <tr>\n",
       "      <th>2</th>\n",
       "      <td>234020</td>\n",
       "      <td>1284</td>\n",
       "      <td>no</td>\n",
       "      <td>no</td>\n",
       "      <td>311</td>\n",
       "      <td>328</td>\n",
       "      <td>2000-Q4</td>\n",
       "      <td>1</td>\n",
       "    </tr>\n",
       "    <tr>\n",
       "      <th>3</th>\n",
       "      <td>77137</td>\n",
       "      <td>1284</td>\n",
       "      <td>no</td>\n",
       "      <td>no</td>\n",
       "      <td>311</td>\n",
       "      <td>327</td>\n",
       "      <td>2000-Q4</td>\n",
       "      <td>1</td>\n",
       "    </tr>\n",
       "    <tr>\n",
       "      <th>4</th>\n",
       "      <td>69748</td>\n",
       "      <td>1284</td>\n",
       "      <td>no</td>\n",
       "      <td>no</td>\n",
       "      <td>311</td>\n",
       "      <td>322</td>\n",
       "      <td>2000-Q4</td>\n",
       "      <td>1</td>\n",
       "    </tr>\n",
       "    <tr>\n",
       "      <th>5</th>\n",
       "      <td>7389</td>\n",
       "      <td>1284</td>\n",
       "      <td>no</td>\n",
       "      <td>no</td>\n",
       "      <td>311</td>\n",
       "      <td>D326</td>\n",
       "      <td>2000-Q4</td>\n",
       "      <td>1</td>\n",
       "    </tr>\n",
       "  </tbody>\n",
       "</table>\n",
       "</div>"
      ],
      "text/plain": [
       "  cell_value time_slot_id error_data seasonally_adj category_code  \\\n",
       "1      12070         1284         no             no           311   \n",
       "2     234020         1284         no             no           311   \n",
       "3      77137         1284         no             no           311   \n",
       "4      69748         1284         no             no           311   \n",
       "5       7389         1284         no             no           311   \n",
       "\n",
       "  data_type_code     time us  \n",
       "1            NWC  2000-Q4  1  \n",
       "2            328  2000-Q4  1  \n",
       "3            327  2000-Q4  1  \n",
       "4            322  2000-Q4  1  \n",
       "5           D326  2000-Q4  1  "
      ]
     },
     "execution_count": 39,
     "metadata": {},
     "output_type": "execute_result"
    }
   ],
   "source": [
    "df.head()"
   ]
  },
  {
   "cell_type": "code",
   "execution_count": 40,
   "id": "d88a19bc",
   "metadata": {},
   "outputs": [
    {
     "data": {
      "text/plain": [
       "180320"
      ]
     },
     "execution_count": 40,
     "metadata": {},
     "output_type": "execute_result"
    }
   ],
   "source": [
    "len(df)"
   ]
  },
  {
   "cell_type": "code",
   "execution_count": null,
   "id": "e60661bc",
   "metadata": {},
   "outputs": [],
   "source": []
  }
 ],
 "metadata": {
  "kernelspec": {
   "display_name": "Python 3 (ipykernel)",
   "language": "python",
   "name": "python3"
  },
  "language_info": {
   "codemirror_mode": {
    "name": "ipython",
    "version": 3
   },
   "file_extension": ".py",
   "mimetype": "text/x-python",
   "name": "python",
   "nbconvert_exporter": "python",
   "pygments_lexer": "ipython3",
   "version": "3.8.8"
  }
 },
 "nbformat": 4,
 "nbformat_minor": 5
}
